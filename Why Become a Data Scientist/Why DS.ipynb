{
 "cells": [
  {
   "cell_type": "code",
   "execution_count": 6,
   "metadata": {},
   "outputs": [],
   "source": [
    "import pandas as pd\n",
    "import matplotlib.pyplot as plt\n",
    "df = pd.read_csv('multipleChoiceResponses.csv')"
   ]
  },
  {
   "cell_type": "code",
   "execution_count": 7,
   "metadata": {},
   "outputs": [],
   "source": [
    "df1 = df[[\"Q1\",\"Q2\",\"Q3\",\"Q4\",\"Q5\",\"Q6\",\"Q7\",\"Q8\",\"Q9\",\n",
    "\"Q10\",\"Q11_Part_1\",\"Q11_Part_2\",\n",
    "\"Q11_Part_3\",\"Q11_Part_4\",\"Q11_Part_5\",\"Q11_Part_6\",\"Q11_Part_7\"\n",
    "          ,'Q23','Q24','Q25','Q26',]]\n",
    "df1.columns = ['Sex','Age','Country','Highest Education', 'Undergrad Major','Job','Industry','Years of Experience','Salary',\n",
    "               'Company Use ML','Analyze Data for Product Decisions','Machine Learning Services',\n",
    "               'Data Infrastructure','ML for New Areas','ML Research','Not Important for Work','Other Task at Work',\n",
    "              '% Spent Coding','How Long Coding','How Long Using ML','Are you a data scientist']\n",
    "df1 = df1[1:]"
   ]
  },
  {
   "cell_type": "code",
   "execution_count": null,
   "metadata": {},
   "outputs": [],
   "source": []
  },
  {
   "cell_type": "code",
   "execution_count": 8,
   "metadata": {},
   "outputs": [],
   "source": [
    "#Age map to lower bound\n",
    "df1['Age'] = df1.apply(lambda x: int(x['Age'][:2]), axis = 1)\n",
    "\n",
    "#Takes string of Years of Experience and makes it into an int, taking midpoint of range\n",
    "def YOE(row):\n",
    "    exp = str(row['Years of Experience'])\n",
    "    if exp == 'nan':\n",
    "        return None\n",
    "    if '+' in exp: #assume 30+ is 35 for uniformity of data\n",
    "        return 35\n",
    "    if len(exp) >= 4:\n",
    "        return int(exp[-2:])-2.5 \n",
    "    else: #if len 3\n",
    "        return int(exp[-1:])-0.5\n",
    "\n",
    "df1['Years of Experience'] = df1.apply(lambda x: YOE(x), axis = 1)\n",
    "\n",
    "#Salary Cleaned and Replaced with midpoint value of range\n",
    "def SalaryClean(row):\n",
    "    val = str(row['Salary'])\n",
    "    if val == 'nan' or 'I do not' in val:\n",
    "        return None\n",
    "    if '+' in val:\n",
    "        return 500000\n",
    "    s = val.split('-')\n",
    "    low = int(s[0])*1000\n",
    "    high = int(s[1].replace(\",\", \"\"))\n",
    "    return (low+high)/2 #midpoint for salary\n",
    "\n",
    "df1['Salary'] = df1.apply(lambda x: SalaryClean(x), axis = 1)"
   ]
  },
  {
   "cell_type": "code",
   "execution_count": 24,
   "metadata": {},
   "outputs": [
    {
     "name": "stderr",
     "output_type": "stream",
     "text": [
      "C:\\Users\\Rudy\\Miniconda3\\lib\\site-packages\\ipykernel_launcher.py:7: SettingWithCopyWarning: \n",
      "A value is trying to be set on a copy of a slice from a DataFrame.\n",
      "Try using .loc[row_indexer,col_indexer] = value instead\n",
      "\n",
      "See the caveats in the documentation: http://pandas.pydata.org/pandas-docs/stable/indexing.html#indexing-view-versus-copy\n",
      "  import sys\n"
     ]
    },
    {
     "data": {
      "text/plain": [
       "array(['PhD', 'MS', 'BA', 'Drop', 'AA', 'HS', 'No', nan], dtype=object)"
      ]
     },
     "execution_count": 24,
     "metadata": {},
     "output_type": "execute_result"
    }
   ],
   "source": [
    "mask = df1['Country'] == 'United States of America'\n",
    "dfusa = df1[mask]\n",
    "dictedu = {'Doctoral degree': 'PhD', 'Master’s degree':'MS', 'Bachelor’s degree':'BA',\n",
    "       'Some college/university study without earning a bachelor’s degree':'Drop',\n",
    "       'Professional degree':'AA', 'No formal education past high school':'HS',\n",
    "       'I prefer not to answer':'No'}\n",
    "dfusa['Highest Education'] = dfusa['Highest Education'].map(dictedu)\n",
    "dfusa['Highest Education'].unique()"
   ]
  },
  {
   "cell_type": "code",
   "execution_count": 26,
   "metadata": {},
   "outputs": [
    {
     "data": {
      "text/plain": [
       "<matplotlib.axes._subplots.AxesSubplot at 0x12e9fe5b70>"
      ]
     },
     "execution_count": 26,
     "metadata": {},
     "output_type": "execute_result"
    },
    {
     "data": {
      "image/png": "[encoded data removed]",
      "text/plain": [
       "<Figure size 720x576 with 1 Axes>"
      ]
     },
     "metadata": {
      "needs_background": "light"
     },
     "output_type": "display_data"
    }
   ],
   "source": [
    "fig, ax = plt.subplots(figsize=(10,8))\n",
    "plt.suptitle('')\n",
    "dfusa.boxplot(column=['Salary'], by='Highest Education', ax=ax)"
   ]
  },
  {
   "cell_type": "code",
   "execution_count": null,
   "metadata": {},
   "outputs": [],
   "source": []
  }
 ],
 "metadata": {
  "kernelspec": {
   "display_name": "Python 3",
   "language": "python",
   "name": "python3"
  },
  "language_info": {
   "codemirror_mode": {
    "name": "ipython",
    "version": 3
   },
   "file_extension": ".py",
   "mimetype": "text/x-python",
   "name": "python",
   "nbconvert_exporter": "python",
   "pygments_lexer": "ipython3",
   "version": "3.6.8"
  }
 },
 "nbformat": 4,
 "nbformat_minor": 2
}
