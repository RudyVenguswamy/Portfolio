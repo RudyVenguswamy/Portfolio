{
 "cells": [
  {
   "cell_type": "markdown",
   "metadata": {},
   "source": [
    "# Predicting Heating Load for Buildings\n",
    "This notebook is a public version of a project that I worked on! In this project, I use the data set to make predictions about heating load using multivariable linear, logistic classifiers, and Support Vector Machine.\n",
    "\n",
    "### Data:\n",
    "__Data Source__:\n",
    "The Data file is available on the same github folder this ipynb file is uploaded to, and is named: __Energy.csv__ \n",
    "\n",
    "The dataset was created by Angeliki Xifara ( Civil/Structural Engineer) and was processed by Athanasios Tsanas, Oxford Centre for Industrial and Applied Mathematics, University of Oxford, UK).\n",
    "\n",
    "Credits: Much of the ideas for what to implement in this project are from the GSIs for the DataX course. I add to their original idea in this notebook.\n",
    "\n",
    "__Data Description__:\n",
    "\n",
    "The dataset contains eight attributes of a building (or features, denoted by X1...X8) and response being the heating load on the building, y1. \n",
    "\n",
    "* `X1`\tRelative Compactness\n",
    "* `X2`\tSurface Area \n",
    "* `X3`\tWall Area \n",
    "*  `X4`\tRoof Area \n",
    "*  `X5`\tOverall Height \n",
    "* `X6`  Orientation \n",
    "*  `X7`\tGlazing Area \n",
    "*  `X8`\tGlazing Area Distribution \n",
    "*  `y1`\tHeating Load "
   ]
  },
  {
   "cell_type": "code",
   "execution_count": 4,
   "metadata": {},
   "outputs": [
    {
     "name": "stdout",
     "output_type": "stream",
     "text": [
      "X1    0\n",
      "X2    0\n",
      "X3    0\n",
      "X4    0\n",
      "X5    0\n",
      "X6    0\n",
      "X7    0\n",
      "X8    0\n",
      "Y1    0\n",
      "dtype: int64\n"
     ]
    },
    {
     "data": {
      "text/html": [
       "<div>\n",
       "<style scoped>\n",
       "    .dataframe tbody tr th:only-of-type {\n",
       "        vertical-align: middle;\n",
       "    }\n",
       "\n",
       "    .dataframe tbody tr th {\n",
       "        vertical-align: top;\n",
       "    }\n",
       "\n",
       "    .dataframe thead th {\n",
       "        text-align: right;\n",
       "    }\n",
       "</style>\n",
       "<table border=\"1\" class=\"dataframe\">\n",
       "  <thead>\n",
       "    <tr style=\"text-align: right;\">\n",
       "      <th></th>\n",
       "      <th>X1</th>\n",
       "      <th>X2</th>\n",
       "      <th>X3</th>\n",
       "      <th>X4</th>\n",
       "      <th>X5</th>\n",
       "      <th>X6</th>\n",
       "      <th>X7</th>\n",
       "      <th>X8</th>\n",
       "      <th>Y1</th>\n",
       "    </tr>\n",
       "  </thead>\n",
       "  <tbody>\n",
       "    <tr>\n",
       "      <th>count</th>\n",
       "      <td>768.000000</td>\n",
       "      <td>768.000000</td>\n",
       "      <td>768.000000</td>\n",
       "      <td>768.000000</td>\n",
       "      <td>768.00000</td>\n",
       "      <td>768.000000</td>\n",
       "      <td>768.000000</td>\n",
       "      <td>768.00000</td>\n",
       "      <td>768.000000</td>\n",
       "    </tr>\n",
       "    <tr>\n",
       "      <th>mean</th>\n",
       "      <td>0.764167</td>\n",
       "      <td>671.708333</td>\n",
       "      <td>318.500000</td>\n",
       "      <td>176.604167</td>\n",
       "      <td>5.25000</td>\n",
       "      <td>3.500000</td>\n",
       "      <td>0.234375</td>\n",
       "      <td>2.81250</td>\n",
       "      <td>22.307201</td>\n",
       "    </tr>\n",
       "    <tr>\n",
       "      <th>std</th>\n",
       "      <td>0.105777</td>\n",
       "      <td>88.086116</td>\n",
       "      <td>43.626481</td>\n",
       "      <td>45.165950</td>\n",
       "      <td>1.75114</td>\n",
       "      <td>1.118763</td>\n",
       "      <td>0.133221</td>\n",
       "      <td>1.55096</td>\n",
       "      <td>10.090196</td>\n",
       "    </tr>\n",
       "    <tr>\n",
       "      <th>min</th>\n",
       "      <td>0.620000</td>\n",
       "      <td>514.500000</td>\n",
       "      <td>245.000000</td>\n",
       "      <td>110.250000</td>\n",
       "      <td>3.50000</td>\n",
       "      <td>2.000000</td>\n",
       "      <td>0.000000</td>\n",
       "      <td>0.00000</td>\n",
       "      <td>6.010000</td>\n",
       "    </tr>\n",
       "    <tr>\n",
       "      <th>25%</th>\n",
       "      <td>0.682500</td>\n",
       "      <td>606.375000</td>\n",
       "      <td>294.000000</td>\n",
       "      <td>140.875000</td>\n",
       "      <td>3.50000</td>\n",
       "      <td>2.750000</td>\n",
       "      <td>0.100000</td>\n",
       "      <td>1.75000</td>\n",
       "      <td>12.992500</td>\n",
       "    </tr>\n",
       "    <tr>\n",
       "      <th>50%</th>\n",
       "      <td>0.750000</td>\n",
       "      <td>673.750000</td>\n",
       "      <td>318.500000</td>\n",
       "      <td>183.750000</td>\n",
       "      <td>5.25000</td>\n",
       "      <td>3.500000</td>\n",
       "      <td>0.250000</td>\n",
       "      <td>3.00000</td>\n",
       "      <td>18.950000</td>\n",
       "    </tr>\n",
       "    <tr>\n",
       "      <th>75%</th>\n",
       "      <td>0.830000</td>\n",
       "      <td>741.125000</td>\n",
       "      <td>343.000000</td>\n",
       "      <td>220.500000</td>\n",
       "      <td>7.00000</td>\n",
       "      <td>4.250000</td>\n",
       "      <td>0.400000</td>\n",
       "      <td>4.00000</td>\n",
       "      <td>31.667500</td>\n",
       "    </tr>\n",
       "    <tr>\n",
       "      <th>max</th>\n",
       "      <td>0.980000</td>\n",
       "      <td>808.500000</td>\n",
       "      <td>416.500000</td>\n",
       "      <td>220.500000</td>\n",
       "      <td>7.00000</td>\n",
       "      <td>5.000000</td>\n",
       "      <td>0.400000</td>\n",
       "      <td>5.00000</td>\n",
       "      <td>43.100000</td>\n",
       "    </tr>\n",
       "  </tbody>\n",
       "</table>\n",
       "</div>"
      ],
      "text/plain": [
       "               X1          X2          X3          X4         X5          X6  \\\n",
       "count  768.000000  768.000000  768.000000  768.000000  768.00000  768.000000   \n",
       "mean     0.764167  671.708333  318.500000  176.604167    5.25000    3.500000   \n",
       "std      0.105777   88.086116   43.626481   45.165950    1.75114    1.118763   \n",
       "min      0.620000  514.500000  245.000000  110.250000    3.50000    2.000000   \n",
       "25%      0.682500  606.375000  294.000000  140.875000    3.50000    2.750000   \n",
       "50%      0.750000  673.750000  318.500000  183.750000    5.25000    3.500000   \n",
       "75%      0.830000  741.125000  343.000000  220.500000    7.00000    4.250000   \n",
       "max      0.980000  808.500000  416.500000  220.500000    7.00000    5.000000   \n",
       "\n",
       "               X7         X8          Y1  \n",
       "count  768.000000  768.00000  768.000000  \n",
       "mean     0.234375    2.81250   22.307201  \n",
       "std      0.133221    1.55096   10.090196  \n",
       "min      0.000000    0.00000    6.010000  \n",
       "25%      0.100000    1.75000   12.992500  \n",
       "50%      0.250000    3.00000   18.950000  \n",
       "75%      0.400000    4.00000   31.667500  \n",
       "max      0.400000    5.00000   43.100000  "
      ]
     },
     "execution_count": 4,
     "metadata": {},
     "output_type": "execute_result"
    }
   ],
   "source": [
    "import sklearn as sk\n",
    "import pandas as pd\n",
    "import numpy as np\n",
    "import matplotlib.pyplot as plt\n",
    "from sklearn.model_selection import train_test_split\n",
    "df1 = pd.read_csv('Building_Heating.csv')\n",
    "print(df1.isna().sum())\n",
    "df1.describe()"
   ]
  },
  {
   "cell_type": "markdown",
   "metadata": {},
   "source": [
    "Yes! The data is cleaned really well already! Now I just want to check to see at first glance how the each of the variables interacts with Y1."
   ]
  },
  {
   "cell_type": "markdown",
   "metadata": {},
   "source": [
    "### Feature Scaling\n",
    "Prior to jumping into our models, it's always a good practice to scale our features, whether it be normalizing them or taking the log(feature). For our first predictor, a linear regression, the way the data looks, scaling it shouldn't make too much of a difference, but it might be useful when we move to more complex predictors."
   ]
  },
  {
   "cell_type": "code",
   "execution_count": 5,
   "metadata": {},
   "outputs": [
    {
     "data": {
      "image/png": "[encoded data removed]",
      "text/plain": [
       "<Figure size 1080x504 with 8 Axes>"
      ]
     },
     "metadata": {
      "needs_background": "light"
     },
     "output_type": "display_data"
    }
   ],
   "source": [
    "fig, ax = plt.subplots(2,4, figsize = (15,7))\n",
    "r = 0\n",
    "c = 0\n",
    "for col in df1.columns:\n",
    "    if col == 'Y1':\n",
    "        break\n",
    "    ax[r,c].hist(col, data = df1);\n",
    "    ax[r,c].set_xlabel(col);\n",
    "    if c ==3:\n",
    "        c = 0\n",
    "        r = 1\n",
    "    else:\n",
    "        c+= 1\n",
    "\n",
    "#here's how one would do it with for loops :D"
   ]
  },
  {
   "cell_type": "code",
   "execution_count": 6,
   "metadata": {},
   "outputs": [
    {
     "name": "stderr",
     "output_type": "stream",
     "text": [
      "/Users/rvenguswamy/anaconda3/lib/python3.6/site-packages/sklearn/preprocessing/data.py:625: DataConversionWarning: Data with input dtype int64, float64 were all converted to float64 by StandardScaler.\n",
      "  return self.partial_fit(X, y)\n",
      "/Users/rvenguswamy/anaconda3/lib/python3.6/site-packages/sklearn/base.py:462: DataConversionWarning: Data with input dtype int64, float64 were all converted to float64 by StandardScaler.\n",
      "  return self.fit(X, **fit_params).transform(X)\n"
     ]
    }
   ],
   "source": [
    "\n",
    "\n",
    "from sklearn.preprocessing import StandardScaler\n",
    "\n",
    "scaler = StandardScaler()\n",
    "StandardScaler(copy=True, with_mean=True, with_std=True)\n",
    "\n",
    "scaled=scaler.fit_transform(df1)\n",
    "dfscaled = pd.DataFrame(scaled, columns = df1.columns)\n",
    "\n",
    "#Splitting scaled data into training, test\n",
    "Xs = dfscaled.iloc[:,:-1]\n",
    "\n",
    "#Testing it without scaling features too \n",
    "#There's no need to scale the target Variable.\n",
    "X = df1.iloc[:,:-1]\n",
    "Y = df1.iloc[:,-1]\n",
    "x_strain, x_stest, y_train, y_test = train_test_split(Xs, Y, test_size=0.2, random_state=42)\n",
    "x_train, x_test, y_train, y_test = train_test_split(X, Y, test_size=0.2, random_state=42)"
   ]
  },
  {
   "cell_type": "markdown",
   "metadata": {},
   "source": [
    "### Linear Regression\n",
    "The previous graphs that plotted a Least-Squared Regressions Line seem reasonable and suggests a linear regression could be a good, easy first step. From there we can move to more fancy models that might do a better job of capturing some of those breaks in the graph, like what occurs for `X5`. First, I'm going to make a linear model and score it. Because the output is continuous we'll use a regression model instead of a classifier. First things first, we'll split out data 80% training, 20% test."
   ]
  },
  {
   "cell_type": "code",
   "execution_count": 8,
   "metadata": {},
   "outputs": [
    {
     "data": {
      "image/png": "[encoded data removed]",
      "text/plain": [
       "<Figure size 1080x504 with 8 Axes>"
      ]
     },
     "metadata": {
      "needs_background": "light"
     },
     "output_type": "display_data"
    }
   ],
   "source": [
    "#could have probably used a for loop here... but it was more aesthetic on plot to manually decide where to place each graph\n",
    "from sklearn import linear_model\n",
    "fig, ax = plt.subplots(2,4, figsize = (15,7))\n",
    "\n",
    "name = 'X1'\n",
    "col = np.array([x_train[name]])\n",
    "col = col.reshape(len(col[0]),1)\n",
    "LinearModel = linear_model.LinearRegression()\n",
    "LinearModel.fit(col,y_train)\n",
    "ax[0,0].plot(col, LinearModel.predict(col))\n",
    "ax[0,0].scatter(col,y_train)\n",
    "ax[0,0].set_xlabel(name)\n",
    "ax[0,0].set_ylabel(\"Heating\")\n",
    "\n",
    "name = 'X2'\n",
    "col = np.array([x_train[name]])\n",
    "col = col.reshape(len(col[0]),1)\n",
    "LinearModel = linear_model.LinearRegression()\n",
    "LinearModel.fit(col,y_train)\n",
    "ax[0,1].plot(col, LinearModel.predict(col))\n",
    "ax[0,1].scatter(col,y_train)\n",
    "ax[0,1].set_xlabel(name)\n",
    "\n",
    "name = 'X3'\n",
    "col = np.array([x_train[name]])\n",
    "col = col.reshape(len(col[0]),1)\n",
    "LinearModel = linear_model.LinearRegression()\n",
    "LinearModel.fit(col,y_train)\n",
    "ax[0,2].plot(col, LinearModel.predict(col))\n",
    "ax[0,2].scatter(col,y_train)\n",
    "ax[0,2].set_xlabel(name)\n",
    "\n",
    "name = 'X4'\n",
    "col = np.array([x_train[name]])\n",
    "col = col.reshape(len(col[0]),1)\n",
    "LinearModel = linear_model.LinearRegression()\n",
    "LinearModel.fit(col,y_train)\n",
    "ax[0,3].plot(col, LinearModel.predict(col))\n",
    "ax[0,3].scatter(col,y_train)\n",
    "ax[0,3].set_xlabel(name)\n",
    "\n",
    "name = 'X5'\n",
    "col = np.array([x_train[name]])\n",
    "col = col.reshape(len(col[0]),1)\n",
    "LinearModel = linear_model.LinearRegression()\n",
    "LinearModel.fit(col,y_train)\n",
    "ax[1,0].plot(col, LinearModel.predict(col))\n",
    "ax[1,0].scatter(col,y_train)\n",
    "ax[1,0].set_xlabel(name)\n",
    "ax[1,0].set_ylabel(\"Heating\")\n",
    "\n",
    "name = 'X6'\n",
    "col = np.array([x_train[name]])\n",
    "col = col.reshape(len(col[0]),1)\n",
    "LinearModel = linear_model.LinearRegression()\n",
    "LinearModel.fit(col,y_train)\n",
    "ax[1,1].plot(col, LinearModel.predict(col))\n",
    "ax[1,1].scatter(col,y_train)\n",
    "ax[1,1].set_xlabel(name)\n",
    "name = 'X7'\n",
    "col = np.array([x_train[name]])\n",
    "col = col.reshape(len(col[0]),1)\n",
    "LinearModel = linear_model.LinearRegression()\n",
    "LinearModel.fit(col,y_train)\n",
    "ax[1,2].plot(col, LinearModel.predict(col))\n",
    "ax[1,2].scatter(col,y_train)\n",
    "ax[1,2].set_xlabel(name)\n",
    "\n",
    "name = 'X8'\n",
    "col = np.array([x_train[name]])\n",
    "col = col.reshape(len(col[0]),1)\n",
    "LinearModel = linear_model.LinearRegression()\n",
    "LinearModel.fit(col,y_train)\n",
    "ax[1,3].plot(col, LinearModel.predict(col))\n",
    "ax[1,3].scatter(col,y_train)\n",
    "ax[1,3].set_xlabel(name);\n",
    "\n"
   ]
  },
  {
   "cell_type": "code",
   "execution_count": 9,
   "metadata": {},
   "outputs": [],
   "source": [
    "#Metric for error for our model, root mean squared error\n",
    "from sklearn.metrics import mean_squared_error\n",
    "def RMSEfn(actual, predicted):\n",
    "    return np.sqrt(mean_squared_error(actual,predicted))"
   ]
  },
  {
   "cell_type": "code",
   "execution_count": 10,
   "metadata": {},
   "outputs": [
    {
     "name": "stdout",
     "output_type": "stream",
     "text": [
      "RMSE for LSRM training (scaled):  2.893118785420839\n",
      "RMSE for LRSM Test (scaled):  3.025423582773619\n"
     ]
    }
   ],
   "source": [
    "#Training the linear model on x_train/y_train \n",
    "#and then using the model to score both the training data and the test data\n",
    "\n",
    "LinearModel = linear_model.LinearRegression()\n",
    "LinearModel.fit(x_strain,y_train)\n",
    "predicted = LinearModel.predict(x_strain)\n",
    "print('RMSE for LSRM training (scaled): ', RMSEfn(y_train, predicted))\n",
    "testpredict = LinearModel.predict(x_stest)\n",
    "print('RMSE for LRSM Test (scaled): ', RMSEfn(y_test,testpredict))"
   ]
  },
  {
   "cell_type": "markdown",
   "metadata": {},
   "source": []
  },
  {
   "cell_type": "markdown",
   "metadata": {},
   "source": [
    "This makes sense for the RMSE for the test to be very slightly higher than that for the training data. We did use the training data to fit the model after all but it seems that the overfitting is minimal as this is only a linear model after all.\n",
    "\n",
    "## Support Vector Machine (SVM) Regressor\n",
    "Now we've done a simple linear model, I want to try a SVM model to see if I can achieve better results. Because we're working with continuous data, I'll be using an SVM regressor. As I build my SVM model, I want to be conscious of overfitting. I discovered that the C parameter does a lot in terms of reducing error. The C parameter represents how \"wide\" the vector that separates each of the classes will be in a typical SVM classifier. Similarly for a regressor, a higher C value means thinner margins. I plotted various values of C (log) relative log RMSE to see what value of C I should use."
   ]
  },
  {
   "cell_type": "code",
   "execution_count": 40,
   "metadata": {},
   "outputs": [
    {
     "data": {
      "image/png": "[encoded data removed]",
      "text/plain": [
       "<Figure size 432x288 with 1 Axes>"
      ]
     },
     "metadata": {
      "needs_background": "light"
     },
     "output_type": "display_data"
    }
   ],
   "source": [
    "from sklearn import svm\n",
    "\n",
    "c = [0.1,1,10,50,100,100,1000, 5000]\n",
    "SVMtrainerror = []\n",
    "SVMtesterror = []\n",
    "for x in c:\n",
    "    SVMmodel = svm.SVR(kernel = 'rbf', gamma = 'auto', C = x)\n",
    "    SVMmodel.fit(x_strain,y_train)\n",
    "    \n",
    "    SVMtrainerror.append(RMSEfn(y_train, SVMmodel.predict(x_strain)))\n",
    "    SVMtesterror.append(RMSEfn(y_test, SVMmodel.predict(x_stest)))\n",
    "    \n",
    "    \n",
    "plt.plot(c,SVMtrainerror)\n",
    "plt.plot(c,SVMtesterror)\n",
    "plt.xscale('log')\n",
    "plt.title = \"RMSE vs. C Param for SVM Regressor\"\n",
    "plt.ylabel = \"RMSE\"\n",
    "plt.xlabel = \"Log C Value\""
   ]
  },
  {
   "cell_type": "markdown",
   "metadata": {},
   "source": [
    "From this graph we see that for C value ≈ 100, the error (RMSE) for the training and test set begin to diverge a bit. As the blue line (training data) goes lower, the error for the test starts to plateau shortly after, suggesting overfitting begins to occur for values above 100. For my final model, I'll use this value for C prior to a large divergence in RMSE from training and test to be conservative against overfitting."
   ]
  },
  {
   "cell_type": "code",
   "execution_count": 41,
   "metadata": {},
   "outputs": [
    {
     "name": "stdout",
     "output_type": "stream",
     "text": [
      "RMSE for training:  0.6471903160591559\n",
      "RMSE for training:  0.744534705042214\n"
     ]
    }
   ],
   "source": [
    "\n",
    "SVMmodel = svm.SVR(kernel = 'rbf', gamma = 'auto', C = 100)\n",
    "#C represents how \"wide\" we want our line in the SVM to be.\n",
    "#A small C represents wide margins at the cost of accuracy while a high C represents tight margins.\n",
    "SVMmodel.fit(x_strain,y_train)\n",
    "print('RMSE for training: ', RMSEfn(y_train, SVMmodel.predict(x_strain)))\n",
    "print('RMSE for training: ', RMSEfn(y_test, SVMmodel.predict(x_stest)))"
   ]
  },
  {
   "cell_type": "markdown",
   "metadata": {},
   "source": [
    "Thank you for looking at my project on predicting Heating Levels for buildings based on their building attributes!"
   ]
  }
 ],
 "metadata": {
  "kernelspec": {
   "display_name": "Python 3",
   "language": "python",
   "name": "python3"
  },
  "language_info": {
   "codemirror_mode": {
    "name": "ipython",
    "version": 3
   },
   "file_extension": ".py",
   "mimetype": "text/x-python",
   "name": "python",
   "nbconvert_exporter": "python",
   "pygments_lexer": "ipython3",
   "version": "3.6.8"
  }
 },
 "nbformat": 4,
 "nbformat_minor": 2
}
