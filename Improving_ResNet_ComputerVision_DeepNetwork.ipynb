{
 "cells": [
  {
   "cell_type": "markdown",
   "metadata": {},
   "source": [
    "# Improving ResNet\n",
    "\n",
    "In this notebook, I implement ResNet50 with Keras and finetune the model on the MNIST dataset. Typically MNIST is a benchmark for computer vision algorithms and contains images of thousands of handwritten digits. And in particular, I chose this challenge because of its balanced data set, reliable labels, but mainly because I wanted to focus on highlighting the architecture of ResNet and finetuning. Because MNIST is so well used, I have a benchmark against which to compare my model performance.\n",
    "\n",
    "I reconstruct ResNet from scratch with a TensorFlow 2.0 Keras framework, modify it to use more advanced neuron activation function and achieve very solid results (98.5% Accuracy, but you'll see my other important metrics (AUC, Precision, Recall) are all just as great!)\n",
    "\n",
    "I hope that my dive into the architecture of ResNet 50 can showcase the backbone of this state of the art neural network and also highlight and inspire ideas around transfer learning approaches (train on MNIST, freeze some early layers and apply the network elsewhere) to other tasks with less labeled data available."
   ]
  },
  {
   "cell_type": "code",
   "execution_count": 1,
   "metadata": {
    "_cell_guid": "79c7e3d0-c299-4dcb-8224-4455121ee9b0",
    "_uuid": "d629ff2d2480ee46fbb7e2d37f6b5fab8052498a"
   },
   "outputs": [
    {
     "name": "stderr",
     "output_type": "stream",
     "text": [
      "Using TensorFlow backend.\n"
     ]
    },
    {
     "name": "stdout",
     "output_type": "stream",
     "text": [
      "done with importing\n"
     ]
    }
   ],
   "source": [
    "import keras\n",
    "from keras import layers\n",
    "from keras import models\n",
    "import numpy as np\n",
    "import tensorflow as tf\n",
    "from tensorflow.keras.models import Model\n",
    "from tensorflow.keras.layers import Input, Dense, BatchNormalization as BatchNorm, Activation, Conv2D, Add, GlobalMaxPool2D, Flatten, Softmax, Cropping1D, Lambda, Maximum\n",
    "from tensorflow.keras import layers\n",
    "import numpy as np\n",
    "import os\n",
    "import pandas as pd\n",
    "from itertools import islice\n",
    "from matplotlib import pyplot as plt\n",
    "import multiprocessing as mp\n",
    "tf.config.optimizer.set_jit(True)\n",
    "print('done with importing')"
   ]
  },
  {
   "cell_type": "code",
   "execution_count": 2,
   "metadata": {},
   "outputs": [],
   "source": [
    "df = pd.read_csv('train.csv')\n",
    "#split data into train and test\n",
    "testdf, traindf = df.iloc[:1000, :], df.iloc[1000:, :] \n",
    "xtr = np.array(traindf.iloc[:,1:])\n",
    "xtr = xtr / 255.0 #bringing into 0 to 1 range\n",
    "ytr = np.array(traindf.iloc[:,0])\n",
    "\n",
    "xtest = np.array(testdf.iloc[:,1:])\n",
    "xtest = xtr / 255.0\n",
    "ytest = np.array(testdf.iloc[:,0])\n",
    "\n",
    "train_data = xtr\n",
    "train_labels = ytr"
   ]
  },
  {
   "cell_type": "code",
   "execution_count": 3,
   "metadata": {},
   "outputs": [
    {
     "name": "stdout",
     "output_type": "stream",
     "text": [
      "1\n"
     ]
    },
    {
     "data": {
      "image/png": "[encoded data removed]",
      "text/plain": [
       "<Figure size 432x288 with 1 Axes>"
      ]
     },
     "metadata": {
      "needs_background": "light"
     },
     "output_type": "display_data"
    }
   ],
   "source": [
    "#plot of one image from our dataset to show mnist\n",
    "plt.imshow(train_data[0].reshape(28,28))\n",
    "print(train_labels[0])\n"
   ]
  },
  {
   "cell_type": "code",
   "execution_count": 4,
   "metadata": {},
   "outputs": [],
   "source": [
    "# I tried a gaussian filter but its performance wasn't great. Left this in the code for replication purposes.\n",
    "#Perhaps at this level of complication in a neural network it's best to let the features stay as is.\n",
    "from scipy.ndimage import gaussian_filter\n",
    "train_data_blur = []\n",
    "\n",
    "for val in train_data.reshape(train_data.shape[0],28,28):\n",
    "    train_data_blur.append(gaussian_filter(val, sigma = 1))\n",
    "    \n",
    "train_data_blur = np.array(train_data_blur).reshape(train_data.shape[0],28,28,1)\n",
    "    \n",
    "    \n"
   ]
  },
  {
   "cell_type": "code",
   "execution_count": 5,
   "metadata": {},
   "outputs": [],
   "source": [
    "from keras.preprocessing.image import ImageDataGenerator\n",
    "from keras.utils import to_categorical\n",
    "\n",
    "x_train = train_data.reshape(train_data.shape[0],28,28,1)\n",
    "y_train = train_labels\n",
    "val_frac = 0.1\n",
    "batch_size = 32\n",
    "\n",
    "data_augmentor = ImageDataGenerator(featurewise_center=True, validation_split = val_frac)\n",
    "data_augmentor.fit(x_train)\n",
    "\n",
    "train_generator = data_augmentor.flow(x_train, to_categorical(y_train), batch_size=batch_size, subset=\"training\", shuffle = False)\n",
    "val_generator = data_augmentor.flow(x_train, to_categorical(y_train), batch_size=batch_size, subset=\"validation\", shuffle = False)"
   ]
  },
  {
   "cell_type": "code",
   "execution_count": 6,
   "metadata": {},
   "outputs": [],
   "source": [
    "def res_unit1(inp, a, b, block_id, layer_id, activation=\"elu\"):\n",
    "    \n",
    "    Nonlinearity = lambda name: Activation(activation=tf.nn.elu, name=name)\n",
    "\n",
    "    bn1 = BatchNorm(name=f\"{block_id}/{layer_id}/bn1\")(inp)\n",
    "    elu1 = Nonlinearity(name=f\"{block_id}/{layer_id}/{activation}1\")(bn1)\n",
    "    conv1 = Conv2D(filters=a, kernel_size=(1,1), name=f\"{block_id}/{layer_id}/conv1\")(elu1)\n",
    "\n",
    "    bn2 = BatchNorm(name=f\"{block_id}/{layer_id}/bn2\")(conv1)\n",
    "    elu2 = Nonlinearity(name=f\"{block_id}/{layer_id}/{activation}2\")(bn2)\n",
    "    conv2 = Conv2D(filters=a, kernel_size=(3,3), padding=\"same\", name=f\"{block_id}/{layer_id}/conv2\")(elu2)\n",
    "\n",
    "    bn3 = BatchNorm(name=f\"{block_id}/{layer_id}/bn3\")(conv2)\n",
    "    elu3 = Nonlinearity(name=f\"{block_id}/{layer_id}/{activation}3\")(bn3)\n",
    "    conv3 = Conv2D(filters=b, kernel_size=(1,1), name=f\"{block_id}/{layer_id}/conv3\")(elu3)\n",
    "\n",
    "    return Add(name=f\"{block_id}/{layer_id}/add\")([inp, conv3])\n",
    "\n",
    "def res_unit2(inp, a, b, block_id, layer_id, activation=\"relu\"):\n",
    "    Nonlinearity = lambda name: Activation(activation=tf.nn.relu, name=name)\n",
    "\n",
    "    bn = BatchNorm(name=f\"{block_id}/{layer_id}/bn0\")(inp)\n",
    "    elu = Nonlinearity(name=f\"{block_id}/{layer_id}/{activation}0\")(bn)\n",
    "\n",
    "    shortcut = Conv2D(filters=b, kernel_size=(1,1), strides=2, name=f\"{block_id}/{layer_id}/shortcut-conv\")(elu)\n",
    "\n",
    "    conv0 = Conv2D(filters=a, kernel_size=(1,1), strides=2, name=f\"{block_id}/{layer_id}/conv0\")(elu)\n",
    "\n",
    "    bn1 = BatchNorm(name=f\"{block_id}/{layer_id}/bn1\")(conv0)\n",
    "    elu1 = Nonlinearity(name=f\"{block_id}/{layer_id}/{activation}1\")(bn1)\n",
    "    conv1 = Conv2D(filters=a, kernel_size=(3,3), padding=\"same\", name=f\"{block_id}/{layer_id}/conv1\")(elu1)\n",
    "\n",
    "    bn2 = BatchNorm(name=f\"{block_id}/{layer_id}/bn2\")(conv1)\n",
    "    elu2 = Nonlinearity(name=f\"{block_id}/{layer_id}/{activation}2\")(bn2)\n",
    "    conv2 = Conv2D(filters=b, kernel_size=(1,1), name=f\"{block_id}/{layer_id}/conv2\")(elu2)\n",
    "\n",
    "    return Add(name=f\"{block_id}/{layer_id}/add\")([shortcut, conv2])"
   ]
  },
  {
   "cell_type": "code",
   "execution_count": 7,
   "metadata": {},
   "outputs": [],
   "source": [
    "def create_model(activation=\"elu\"):\n",
    "    img = Input(shape=(28,28,1), name=\"img\")\n",
    "    conv1 = Conv2D(filters=32, kernel_size=(7,7), name=\"0/0/conv\")(img)\n",
    "    elu1 = Activation(activation=activation, name=f\"0/0/{activation}\")(conv1)\n",
    "    bn1 = BatchNorm(name=\"0/0/bn\")(elu1)\n",
    "\n",
    "    layer1_1 = res_unit1(bn1, 16, 32, 1, 1, activation=activation)\n",
    "    layer1_2 = res_unit1(layer1_1, 16, 32, 1, 2, activation=activation)\n",
    "    layer1_3 = res_unit1(layer1_2, 16, 32, 1, 3, activation=activation)\n",
    "\n",
    "    layer2_1 = res_unit2(layer1_3, 32, 64, 2, 1, activation=activation)\n",
    "    layer2_2 = res_unit1(layer2_1, 32, 64, 2, 2, activation=activation)\n",
    "    layer2_3 = res_unit1(layer2_2, 32, 64, 2, 3, activation=activation)\n",
    "\n",
    "    layer3_1 = res_unit2(layer2_3, 64, 128, 3, 1, activation=activation)\n",
    "    layer3_2 = res_unit1(layer3_1, 64, 128, 3, 2, activation=activation)\n",
    "    layer3_3 = res_unit1(layer3_2, 64, 128, 3, 3, activation=activation)\n",
    "\n",
    "    layer4_1 = res_unit2(layer3_3, 128, 256, 4, 1, activation=activation)\n",
    "    layer4_2 = res_unit1(layer4_1, 128, 256, 4, 2, activation=activation)\n",
    "    layer4_3 = res_unit1(layer4_2, 128, 256, 4, 3, activation=activation)\n",
    "\n",
    "    layer5_1 = res_unit2(layer4_3, 256, 512, 5, 1, activation=activation)\n",
    "    layer5_2 = res_unit1(layer5_1, 256, 512, 5, 2, activation=activation)\n",
    "    layer5_3 = res_unit1(layer5_2, 256, 512, 5, 3, activation=activation)\n",
    "\n",
    "    average = GlobalMaxPool2D()(layer5_3)\n",
    "    flatten = Flatten()(average)\n",
    "    d = Dense(10, activation=\"softmax\")(flatten) #changed to 10\n",
    "    #out = Dense(10, activation='softmax')(d)\n",
    "    \n",
    "    return Model(inputs=[img], outputs=[d])"
   ]
  },
  {
   "cell_type": "code",
   "execution_count": 8,
   "metadata": {},
   "outputs": [
    {
     "data": {
      "text/plain": [
       "numpy.int64"
      ]
     },
     "execution_count": 8,
     "metadata": {},
     "output_type": "execute_result"
    },
    {
     "data": {
      "image/png": "[encoded data removed]",
      "text/plain": [
       "<Figure size 432x288 with 1 Axes>"
      ]
     },
     "metadata": {
      "needs_background": "light"
     },
     "output_type": "display_data"
    }
   ],
   "source": [
    "val = 10\n",
    "plt.imshow(x_train.reshape(x_train.shape[0],28,28,1)[val].reshape(28,28))\n",
    "to_categorical(y_train)[val]\n",
    "type(y_train[val])"
   ]
  },
  {
   "cell_type": "code",
   "execution_count": 9,
   "metadata": {},
   "outputs": [
    {
     "name": "stdout",
     "output_type": "stream",
     "text": [
      "Epoch 1/5\n",
      "1154/1154 [==============================] - 95s 83ms/step - loss: 0.3091 - auc: 0.9896 - precision: 0.9380 - recall: 0.9202 - categorical_accuracy: 0.9264 - val_loss: 0.3586 - val_auc: 0.9885 - val_precision: 0.9004 - val_recall: 0.8756 - val_categorical_accuracy: 0.8898\n",
      "Epoch 2/5\n",
      "1154/1154 [==============================] - 75s 65ms/step - loss: 0.1443 - auc: 0.9961 - precision: 0.9684 - recall: 0.9598 - categorical_accuracy: 0.9636 - val_loss: 0.7596 - val_auc: 0.9719 - val_precision: 0.8946 - val_recall: 0.8885 - val_categorical_accuracy: 0.8917\n",
      "Epoch 3/5\n",
      "1154/1154 [==============================] - 75s 65ms/step - loss: 0.1078 - auc: 0.9973 - precision: 0.9756 - recall: 0.9695 - categorical_accuracy: 0.9720 - val_loss: 0.2157 - val_auc: 0.9927 - val_precision: 0.9643 - val_recall: 0.9617 - val_categorical_accuracy: 0.9627\n",
      "Epoch 4/5\n",
      "1154/1154 [==============================] - 76s 65ms/step - loss: 0.0628 - auc: 0.9987 - precision: 0.9853 - recall: 0.9814 - categorical_accuracy: 0.9831 - val_loss: 0.0568 - val_auc: 0.9989 - val_precision: 0.9841 - val_recall: 0.9805 - val_categorical_accuracy: 0.9817\n",
      "Epoch 5/5\n",
      "1154/1154 [==============================] - 75s 65ms/step - loss: 0.0626 - auc: 0.9986 - precision: 0.9851 - recall: 0.9812 - categorical_accuracy: 0.9830 - val_loss: 0.0419 - val_auc: 0.9995 - val_precision: 0.9890 - val_recall: 0.9859 - val_categorical_accuracy: 0.9866\n"
     ]
    }
   ],
   "source": [
    "model = create_model(\"elu\")\n",
    "metrics = tf.keras.metrics\n",
    "model.compile(\n",
    "      loss='categorical_crossentropy',\n",
    "      optimizer=tf.keras.optimizers.Adam(),\n",
    "      metrics=[metrics.AUC(), metrics.Precision(), metrics.Recall(), metrics.CategoricalAccuracy(), ]\n",
    "  )\n",
    "\n",
    "#we see diminishing returns after the second epoch\n",
    "history = model.fit_generator(train_generator, validation_data = val_generator, epochs=5)"
   ]
  },
  {
   "cell_type": "code",
   "execution_count": 11,
   "metadata": {},
   "outputs": [
    {
     "data": {
      "image/png": "[encoded data removed]",
      "text/plain": [
       "<Figure size 432x288 with 1 Axes>"
      ]
     },
     "metadata": {
      "needs_background": "light"
     },
     "output_type": "display_data"
    }
   ],
   "source": [
    "plt.plot(history.history['auc'])\n",
    "plt.plot(history.history['recall'])\n",
    "plt.plot(history.history['precision'])\n",
    "plt.plot(history.history['categorical_accuracy'])\n",
    "plt.plot(history.history['val_categorical_accuracy'])\n",
    "plt.title('Metrics v. Epoch')\n",
    "plt.ylabel('Value')\n",
    "plt.xlabel('epoch')\n",
    "plt.legend(['auc', 'recall', 'precision','categorical_accuracy','validation_accuracy'], loc='lower right')\n",
    "plt.show()"
   ]
  },
  {
   "cell_type": "markdown",
   "metadata": {},
   "source": [
    "\n",
    "I don't recommend trying to run this model without some GPU hardware! I actually used some of the free 30 hours a week of P100 GPU access Kaggle provides to train my model!\n",
    "\n",
    "## _Key Takeaways_\n",
    "\n",
    "## Experiments\n",
    "Even though I chose to use MNIST to train my data, I think this exercise was extremely valuable because it shows using the TF 2.0 and Keras framework in action, and turns an otherwise opaque ResNet 50 Model into something quite understandable! I played around with various techniques like smoothing, ZCA whitening, and gaussian blur and ultimately found centering the image was the most important technique for improved performance. I also found that while for the \"normal\" layers I would use an elu activation function (preserves negative weights), a ReLU function worked well for the residual blocks.\n",
    "\n",
    "## Performance\n",
    "To evaluate this model, I focused on the AUC, Precision and Recall, and Accuracy. When I was done fine-tuning the model, I added in validation accuracy for my data as to not bias my finetuning. For training, across various attempts at 5 epoch training, I found that training beyond 5 epochs resulted in overfitting and reduced performance on validation data.\n",
    "\n",
    "Through finetuning my model on just ~30K values, I was able to achieve 99.8% AUC, 98.0% Precision, 97.5% Recall, and 98.5% Accuracy. This suggests the model was very good at distinguishing between various digits and did not face significant issues of False Positive, False Negative, True Positive, True Negative imbalance.\n",
    "\n",
    "## Discussion\n",
    "Compared to the standard ResNet model, I deploy the model with ReLU activation functions for residual blocks, ELU functions for standard blocks and ELU activation layers for higher up layers. I implemented this combination to counteract the 'dead neuron' problem of ReLU, where the gradient, once zero, cannot recover to a positive value, while empirically finding the blocks that needed to have a ReLU function. I think the balance between symmetric ReLUs and ELUs which are in some ways \"curved\" versions of a Leaky ReLU and have some negative weight possibility without scaling linearly (diminishing negative negative gradient) is useful for detecting what features do not correspond to certain digits. \n",
    "\n",
    "## Efficiency\n",
    "Because of the scale of this model with 3 Million Nodes, it was important to focus on compute efficiency. This is why I used a data generator and trained on GPU via Kaggle's Kernel (it actually has a better GPU (P100) versus the Tesla K80s for Google Colab! \n",
    "\n",
    "Thanks for viewing this notebook!\n",
    "\n",
    "\n"
   ]
  },
  {
   "cell_type": "code",
   "execution_count": null,
   "metadata": {},
   "outputs": [],
   "source": []
  }
 ],
 "metadata": {
  "kernelspec": {
   "display_name": "Python 3",
   "language": "python",
   "name": "python3"
  },
  "language_info": {
   "codemirror_mode": {
    "name": "ipython",
    "version": 3
   },
   "file_extension": ".py",
   "mimetype": "text/x-python",
   "name": "python",
   "nbconvert_exporter": "python",
   "pygments_lexer": "ipython3",
   "version": "3.6.8"
  }
 },
 "nbformat": 4,
 "nbformat_minor": 1
}
