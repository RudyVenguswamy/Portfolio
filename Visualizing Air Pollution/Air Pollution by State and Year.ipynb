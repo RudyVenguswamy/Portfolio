{
 "cells": [
  {
   "cell_type": "markdown",
   "metadata": {},
   "source": [
    "## This is the second notebook in a two-part project on air pollution. \n",
    "##### In this notebook, I re-clean the data (just like was done in the previous notebook, \"Air Pollution Data Exploration.Ipynb,\" and will be using this data to visualize on a chloropleth map*  of the US, the level of air pollution by year.\n",
    "###### *A Chloropleth map is a map which color codes and fills in based on a geographic area.\n",
    "\n",
    "##### For a written walkthrough visit: https://sites.google.com/berkeley.edu/rudy-venguswamy/home/air-pollution-visualized"
   ]
  },
  {
   "cell_type": "code",
   "execution_count": 1,
   "metadata": {},
   "outputs": [],
   "source": [
    "import pandas as pd               # Pandas lets us use dataframes\n",
    "import numpy as np                # Numpy for math operations\n",
    "import matplotlib.pyplot as plt   # Matplotlib for plotting\n",
    "import os                         #Get the CSV from my computer\n",
    "import datetime as dt\n",
    "import statsmodels.api as sm\n"
   ]
  },
  {
   "cell_type": "code",
   "execution_count": 2,
   "metadata": {},
   "outputs": [],
   "source": [
    "#This cell does simply what was done in the previous notebook to ensure repeatability of results even if the other notebook hasn't been opened.\n",
    "pollution_data = pd.read_csv(\"C:/Users/Rudy/Desktop/Data/Air Pollution/pollution_us_2000_2016.csv\")\n",
    "pollution_data['DateTime'] = pollution_data.apply(lambda row: dt.datetime.strptime(row['Date Local'], '%Y-%m-%d'), axis = 1)\n",
    "pollution_data = pollution_data.groupby(['Address','DateTime'], as_index = False).mean()\n",
    "pollution_data = pollution_data.drop('Unnamed: 0', axis = 1)\n",
    "pollution_data['Year'] = pollution_data.apply(lambda row: row['DateTime'].year, axis = 1)\n",
    "pollution_data['Month'] = pollution_data.apply(lambda row: row['DateTime'].month, axis = 1)"
   ]
  },
  {
   "cell_type": "code",
   "execution_count": 3,
   "metadata": {},
   "outputs": [],
   "source": [
    "#In this cell we turn the US EPA State Codes into numbers that can be mapped to actual states.\n",
    "pollution_data['State Code'] = pollution_data['State Code'].astype(int)\n",
    "\n",
    "#Here, we turn all the different AQI levels from NO2, SO2, CO and O3 into a single measure, \"pollution level,\" by summing them up.\n",
    "pollution_data['Pollution Level'] = pollution_data.apply(lambda row: row['NO2 AQI'] + row['SO2 AQI'] + row['O3 AQI']+ row['CO AQI'], axis = 1)"
   ]
  },
  {
   "cell_type": "code",
   "execution_count": 4,
   "metadata": {},
   "outputs": [
    {
     "data": {
      "text/plain": [
       "415.0"
      ]
     },
     "execution_count": 4,
     "metadata": {},
     "output_type": "execute_result"
    }
   ],
   "source": [
    "pollution_data['Pollution Level'].max()\n",
    "#That's a really high pollution value!"
   ]
  },
  {
   "cell_type": "code",
   "execution_count": 5,
   "metadata": {},
   "outputs": [],
   "source": [
    "#We map pollution levels by the US EPA state codes to our file so that it can be interpreted by Plot.ly's chloropleth feature.\n",
    "pollution_test = pollution_data.copy() #I tested my code for errors and because this operation mutates the DF, I made a copy to work with instead of having to restart the entire kernel.\n",
    "state_codedf = pd.read_csv(\"C:/Users/Rudy/Desktop/Data/Air Pollution/states_and_counties.csv\")\n",
    "state_codedf = state_codedf[~state_codedf['State Code'].isin(['CC'])]\n",
    "state_codedf['State Code'] = state_codedf['State Code'].astype(int)\n",
    "state_codedf = state_codedf.set_index('State Code')\n",
    "statecodedict = state_codedf['State Abbreviation'].to_dict()\n",
    "pollution_test['State Code'] = pollution_test['State Code'].map(statecodedict)"
   ]
  },
  {
   "cell_type": "code",
   "execution_count": 6,
   "metadata": {},
   "outputs": [
    {
     "data": {
      "text/plain": [
       "127.18367346938776"
      ]
     },
     "execution_count": 6,
     "metadata": {},
     "output_type": "execute_result"
    }
   ],
   "source": [
    "#Now we have our data cleaned, we can group the data by State & Year to build a chloropleth.\n",
    "pollution_data_by_state = pollution_test.groupby(['State Code', 'Year'], as_index = False).mean()\n",
    "pollution_data_by_state['Pollution Level'].max()\n"
   ]
  },
  {
   "cell_type": "markdown",
   "metadata": {},
   "source": [
    "###### Oof, 127! That's a high average pollution level across a year. Now that our data has been cleaned and grouped by state and year, we can create a DF for each year and use that to create the Plot.ly map."
   ]
  },
  {
   "cell_type": "code",
   "execution_count": 8,
   "metadata": {},
   "outputs": [
    {
     "data": {
      "text/html": [
       "<div>\n",
       "<style scoped>\n",
       "    .dataframe tbody tr th:only-of-type {\n",
       "        vertical-align: middle;\n",
       "    }\n",
       "\n",
       "    .dataframe tbody tr th {\n",
       "        vertical-align: top;\n",
       "    }\n",
       "\n",
       "    .dataframe thead th {\n",
       "        text-align: right;\n",
       "    }\n",
       "</style>\n",
       "<table border=\"1\" class=\"dataframe\">\n",
       "  <thead>\n",
       "    <tr style=\"text-align: right;\">\n",
       "      <th></th>\n",
       "      <th>State Code</th>\n",
       "      <th>NO2 AQI</th>\n",
       "      <th>SO2 AQI</th>\n",
       "      <th>O3 AQI</th>\n",
       "      <th>CO AQI</th>\n",
       "      <th>Pollution Level</th>\n",
       "    </tr>\n",
       "  </thead>\n",
       "  <tbody>\n",
       "    <tr>\n",
       "      <th>0</th>\n",
       "      <td>AR</td>\n",
       "      <td>23.756831</td>\n",
       "      <td>2.784153</td>\n",
       "      <td>36.486339</td>\n",
       "      <td>6.457650</td>\n",
       "      <td>69.484973</td>\n",
       "    </tr>\n",
       "    <tr>\n",
       "      <th>1</th>\n",
       "      <td>AZ</td>\n",
       "      <td>34.266738</td>\n",
       "      <td>2.391073</td>\n",
       "      <td>40.375133</td>\n",
       "      <td>6.427205</td>\n",
       "      <td>83.460149</td>\n",
       "    </tr>\n",
       "    <tr>\n",
       "      <th>2</th>\n",
       "      <td>CA</td>\n",
       "      <td>19.147362</td>\n",
       "      <td>1.560585</td>\n",
       "      <td>35.513922</td>\n",
       "      <td>5.299695</td>\n",
       "      <td>61.516671</td>\n",
       "    </tr>\n",
       "    <tr>\n",
       "      <th>3</th>\n",
       "      <td>CO</td>\n",
       "      <td>36.410370</td>\n",
       "      <td>9.157037</td>\n",
       "      <td>34.948148</td>\n",
       "      <td>6.177778</td>\n",
       "      <td>86.693333</td>\n",
       "    </tr>\n",
       "    <tr>\n",
       "      <th>4</th>\n",
       "      <td>CT</td>\n",
       "      <td>15.243925</td>\n",
       "      <td>2.059813</td>\n",
       "      <td>38.119626</td>\n",
       "      <td>2.994393</td>\n",
       "      <td>58.417757</td>\n",
       "    </tr>\n",
       "  </tbody>\n",
       "</table>\n",
       "</div>"
      ],
      "text/plain": [
       "  State Code    NO2 AQI   SO2 AQI     O3 AQI    CO AQI  Pollution Level\n",
       "0         AR  23.756831  2.784153  36.486339  6.457650        69.484973\n",
       "1         AZ  34.266738  2.391073  40.375133  6.427205        83.460149\n",
       "2         CA  19.147362  1.560585  35.513922  5.299695        61.516671\n",
       "3         CO  36.410370  9.157037  34.948148  6.177778        86.693333\n",
       "4         CT  15.243925  2.059813  38.119626  2.994393        58.417757"
      ]
     },
     "execution_count": 8,
     "metadata": {},
     "output_type": "execute_result"
    }
   ],
   "source": [
    "Year = 2012 #Insert the Year you would like to create a map for\n",
    "\n",
    "#This method creates a dataframe with the average pollution values for each state for a given year.\n",
    "pollution_data_state_20xx = pollution_data_by_state[pollution_data_by_state.apply(lambda x: x['Year'] == Year, axis=1)]\n",
    "pollution_data_state_20xx = pollution_data_state_20xx.reset_index(drop = True)\n",
    "pollution_data_state_20xx = pollution_data_state_20xx[['State Code', 'NO2 AQI', 'SO2 AQI', 'O3 AQI', 'CO AQI','Pollution Level']]\n",
    "pollution_data_state_20xx.head()"
   ]
  },
  {
   "cell_type": "code",
   "execution_count": 15,
   "metadata": {},
   "outputs": [],
   "source": [
    "#Time to start making the chloropleth\n",
    "#To make the GIF on my website that shows a time trend, I just did this for every year from 2000- 2016 and strung them together with a GIF maker online. \n",
    "import plotly\n",
    "import plotly.plotly as py\n",
    "import pandas as pd\n",
    "plotly.tools.set_credentials_file(username='rudyv', api_key='8fU5oKAmYnJdhB6eBY58') ### Replace this username and key with your Plot.ly credentials"
   ]
  },
  {
   "cell_type": "code",
   "execution_count": 16,
   "metadata": {},
   "outputs": [
    {
     "name": "stderr",
     "output_type": "stream",
     "text": [
      "C:\\Users\\Rudy\\Miniconda3\\lib\\site-packages\\IPython\\core\\display.py:689: UserWarning:\n",
      "\n",
      "Consider using IPython.display.IFrame instead\n",
      "\n"
     ]
    },
    {
     "data": {
      "text/html": [
       "<iframe id=\"igraph\" scrolling=\"no\" style=\"border:none;\" seamless=\"seamless\" src=\"https://plot.ly/~rudyv/2.embed\" height=\"525px\" width=\"100%\"></iframe>"
      ],
      "text/plain": [
       "<plotly.tools.PlotlyDisplay object>"
      ]
     },
     "execution_count": 16,
     "metadata": {},
     "output_type": "execute_result"
    }
   ],
   "source": [
    "df = pollution_data_state_20xx\n",
    "for col in df.columns:\n",
    "    df[col] = df[col].astype(str)\n",
    "\n",
    "#Setting the color scale for pollution levels\n",
    "scl = [[0.0, '#FFFFFF'],[0.2, '#F9DBBD'],[0.4, '#FCA17D'],[0.6, '#DA627D'],\\\n",
    "            [0.8, '#9A348E'],[1.0, '#0D0628']]\n",
    "\n",
    "#On Hover, show info about the breakdown of pollution levels\n",
    "df['text'] = df['State Code'] + '<br>' +\\\n",
    "    'NO2 Level: '+df['NO2 AQI']+ '<br>'+\\\n",
    "    'SO2 Level: '+df['SO2 AQI']+'<br>'+\\\n",
    "    'O3 Level: '+df['O3 AQI']+'<br>'+\\\n",
    "    'CO Level: '+df['CO AQI']\n",
    "\n",
    "#Creating the scale for pollution Data\n",
    "data = [ dict(\n",
    "        type='choropleth',\n",
    "        colorscale = scl,\n",
    "        autocolorscale = False,\n",
    "        locations = df['State Code'],\n",
    "        z = df['Pollution Level'].astype(float),\n",
    "        zmin = 0,\n",
    "        zmax = 143,\n",
    "        locationmode = 'USA-states',\n",
    "        text = df['text'],\n",
    "        marker = dict(\n",
    "            line = dict (\n",
    "                color = 'rgb(255,255,255)',\n",
    "                width = 2\n",
    "            ) ),\n",
    "        colorbar = dict(\n",
    "            title = \"Total Pollution Level (AQI Sum)<br><i>CO, O3, NO2, SO2\")\n",
    "        ) ]\n",
    "\n",
    "#Constructing actual USA Chloropleth map\n",
    "layout = dict(\n",
    "        title = ' US Pollution Levels by State<br><i>Source: EPA.gov Outdoor Air Quality<br>' + str(Year),\n",
    "        geo = dict(\n",
    "            scope='usa',\n",
    "            projection=dict( type='albers usa' ),\n",
    "            showlakes = True,\n",
    "            #landcolor = \"rgb(214, 109, 109)\",\n",
    "            lakecolor = 'rgb(255, 255, 255)',\n",
    "            showland = True,\n",
    "            landcolor = 'rgb(224, 224, 224)'\n",
    "            ),\n",
    "            \n",
    "             )\n",
    "#Constructing Figure    \n",
    "fig = dict( data=data, layout=layout )\n",
    "py.iplot( fig, filename='d3-cloropleth-map' )"
   ]
  },
  {
   "cell_type": "markdown",
   "metadata": {},
   "source": [
    "### Thank you for looking through this notebook!\n"
   ]
  },
  {
   "cell_type": "code",
   "execution_count": null,
   "metadata": {},
   "outputs": [],
   "source": []
  }
 ],
 "metadata": {
  "kernelspec": {
   "display_name": "Python 3",
   "language": "python",
   "name": "python3"
  },
  "language_info": {
   "codemirror_mode": {
    "name": "ipython",
    "version": 3
   },
   "file_extension": ".py",
   "mimetype": "text/x-python",
   "name": "python",
   "nbconvert_exporter": "python",
   "pygments_lexer": "ipython3",
   "version": "3.6.8"
  }
 },
 "nbformat": 4,
 "nbformat_minor": 2
}
